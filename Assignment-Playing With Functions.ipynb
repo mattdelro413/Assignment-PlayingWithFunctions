{
 "cells": [
  {
   "cell_type": "markdown",
   "metadata": {},
   "source": [
    "## Playing With Functions"
   ]
  },
  {
   "cell_type": "markdown",
   "metadata": {},
   "source": [
    "These exercises are designed to strengthen your grasp on basic programming concepts. Read what is required of you carefully. For example, instructions to **return** values are not the same as those of **printing**.\n",
    "\n",
    "Make sure that cells are in **script mode** (not **interactive mode**).\n"
   ]
  },
  {
   "cell_type": "markdown",
   "metadata": {},
   "source": [
    "# 1\n",
    "### 1 point\n",
    "\n",
    "Write a function that takes the circumference of a circle as a parameter and **returns** the area of that circle.\n",
    "\n",
    "Note: Assume the value of pi is 3.1416"
   ]
  },
  {
   "cell_type": "code",
   "execution_count": 4,
   "metadata": {},
   "outputs": [
    {
     "name": "stdout",
     "output_type": "stream",
     "text": [
      "Circumference of circle: 4\n",
      "The area of the circle is 1.2732365673542145\n"
     ]
    }
   ],
   "source": [
    "def getradius(circum):\n",
    "    rad = (circum/ 3.1416)/2\n",
    "    return rad\n",
    "    \n",
    "def getarea(rad):\n",
    "    area = rad**2*3.1416\n",
    "    return area\n",
    "\n",
    "circum = int(input(\"Circumference of circle: \"))\n",
    "rad = getradius(circum)\n",
    "area = getarea (rad)\n",
    "print('The area of the circle is',area)"
   ]
  },
  {
   "cell_type": "markdown",
   "metadata": {},
   "source": [
    "# 2\n",
    "### 2 points\n",
    "\n",
    "Write a function that takes a 5-character string as a parameter and **returns** the string in reverse order.\n",
    "\n",
    "e.g. reverseString(\"Hello\") -> \"olleH\""
   ]
  },
  {
   "cell_type": "code",
   "execution_count": 5,
   "metadata": {
    "scrolled": true
   },
   "outputs": [
    {
     "name": "stdout",
     "output_type": "stream",
     "text": [
      "Enter your word here: Hello\n",
      "olleH\n"
     ]
    }
   ],
   "source": [
    "def reverseword(word):\n",
    "    return word[::-1]\n",
    "\n",
    "word = input(\"Enter your word here: \")\n",
    "reverseString = reverseword(word)\n",
    "print (reverseString)\n"
   ]
  },
  {
   "cell_type": "markdown",
   "metadata": {},
   "source": [
    "# 3\n",
    "### 2 points\n",
    "\n",
    "Write a function that takes a positive integer as input and **returns** the sum of all positive integers smaller than and including the number itself.\n",
    "\n",
    "e.g. backAddition(5) -> 1 + 2 + 3 + 4 + 5 -> 15"
   ]
  },
  {
   "cell_type": "code",
   "execution_count": 9,
   "metadata": {},
   "outputs": [
    {
     "name": "stdout",
     "output_type": "stream",
     "text": [
      "Chosen Integer: 5\n",
      "15\n"
     ]
    }
   ],
   "source": [
    "def backAddition(w,x):\n",
    "    for i in range (w):\n",
    "        x += w - i\n",
    "    return x\n",
    "\n",
    "y=int(input('Chosen Integer: '))\n",
    "z=0\n",
    "backaddsum = backAddition(y,z)\n",
    "\n",
    "print(backaddsum)"
   ]
  },
  {
   "cell_type": "markdown",
   "metadata": {},
   "source": [
    "# 4\n",
    "### 5 points (all or nothing)\n",
    "\n",
    "The sum of the squares of the first ten natural numbers is,\n",
    "12 + 22 + ... + 102 = 385\n",
    "\n",
    "The square of the sum of the first ten natural numbers is,\n",
    "(1 + 2 + ... + 10)2 = 552 = 3025\n",
    "\n",
    "Hence the difference between the sum of the squares of the first ten natural numbers and the square of the sum is 3025 − 385 = 2640.\n",
    "\n",
    "Find the difference between the sum of the squares of the first one hundred natural numbers and the square of the sum.\n",
    "\n",
    "Show code that generates the answer."
   ]
  },
  {
   "cell_type": "code",
   "execution_count": 13,
   "metadata": {},
   "outputs": [
    {
     "name": "stdout",
     "output_type": "stream",
     "text": [
      "25164150.0\n"
     ]
    }
   ],
   "source": [
    "def dif(y):\n",
    "    sum1 = y * (y+1) / 2;\n",
    "    sum2 = y * (y+1) * (2*y + 1) / 6;\n",
    "    diff=  sum1 * sum1 - sum2;\n",
    "    return diff\n",
    "\n",
    "difference = dif(100)\n",
    "\n",
    "print(difference)"
   ]
  },
  {
   "cell_type": "markdown",
   "metadata": {},
   "source": [
    "# 5\n",
    "### 5 points \n",
    "\n",
    "Write a function that allows a self-service Point of Sale system to give you the exact change when you pay in cash.\n",
    "\n",
    "The function should accept the number of cents entered by the caller of the function. It then should **display** the denominations of the coins that should be given to the buyer. The change should use as few coins as possible. Assume that the Point of Sale system is loaded with 1 cent, 5 cents, 10 cents, 25 cents and 1 peso coins.\n",
    "\n",
    "Write main program code that accepts the number of cents manually through user input and calls the function written above.\n",
    "\n",
    "**Input:** The program accepts one positive integer, ***cents***, corresponding to the total change to be given by the Point of Sale system.\n",
    "\n",
    "**Output:** The number of 1 peso, 25 cents, 10 cents, 5 cents and 1 cent coins respectively. There should be one output per line.\n",
    "\n",
    "**Sample Input 1:**  \n",
    "105\n",
    "\n",
    "**Sample Output 1**  \n",
    "1  \n",
    "0  \n",
    "0  \n",
    "1  \n",
    "0  \n",
    "\n",
    "**Sample Input 2:**  \n",
    "69  \n",
    "\n",
    "**Sample Output 2:**  \n",
    "0  \n",
    "2  \n",
    "1  \n",
    "1  \n",
    "4  \n",
    "\n",
    "\n"
   ]
  },
  {
   "cell_type": "code",
   "execution_count": 17,
   "metadata": {},
   "outputs": [
    {
     "name": "stdout",
     "output_type": "stream",
     "text": [
      "Enter number of cents: 300\n",
      "3\n",
      "0\n",
      "0\n",
      "0\n",
      "0\n"
     ]
    }
   ],
   "source": [
    "def getchange(cent):\n",
    "    p100 = 0\n",
    "    p25 = 0\n",
    "    p10 = 0\n",
    "    p5 = 0\n",
    "    p1 = 0\n",
    "    while cent > 0:\n",
    "        if cent >= 100:\n",
    "            cent -= 100\n",
    "            p100 += 1\n",
    "        elif cent >= 25:\n",
    "            cent -= 25\n",
    "            p25 += 1\n",
    "        elif cent >= 10:\n",
    "            cent -= 10\n",
    "            p10 += 1\n",
    "        elif cent >= 5:\n",
    "            cent -= 5\n",
    "            p5 += 1\n",
    "        elif cent >= 1:\n",
    "            cent -= 1\n",
    "            p1 += 1\n",
    "        else: \n",
    "            break\n",
    "    return p100,p25,p10,p5,p1\n",
    "            \n",
    "cent = int(input(\"Enter number of cents: \"))\n",
    "\n",
    "for i in getchange(cent):\n",
    "    print(i)"
   ]
  }
 ],
 "metadata": {
  "kernelspec": {
   "display_name": "Python 3",
   "language": "python",
   "name": "python3"
  },
  "language_info": {
   "codemirror_mode": {
    "name": "ipython",
    "version": 3
   },
   "file_extension": ".py",
   "mimetype": "text/x-python",
   "name": "python",
   "nbconvert_exporter": "python",
   "pygments_lexer": "ipython3",
   "version": "3.8.5"
  }
 },
 "nbformat": 4,
 "nbformat_minor": 2
}
